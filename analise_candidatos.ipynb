{
 "cells": [
  {
   "cell_type": "markdown",
   "id": "9512fac0-d1d2-451c-b127-8463b35b65c5",
   "metadata": {
    "tags": []
   },
   "source": [
    "##  Análise da Formação Educacional dos Candidatos a Prefeito nas Capitais Brasileiras: Foco na Área da Saúde 🎲 📈 \n",
    "\n"
   ]
  },
  {
   "cell_type": "markdown",
   "id": "787adb2d-6113-4f9d-856e-07d112487be0",
   "metadata": {},
   "source": [
    "*por Evelyn Rosa*"
   ]
  },
  {
   "cell_type": "markdown",
   "id": "7ca4105e-e9c3-4fa4-9735-f468e29274d4",
   "metadata": {},
   "source": [
    "A análise da formação educacional dos candidatos a cargos públicos é uma ferramenta fundamental para compreender a composição e diversidade de perfis que buscam ocupar posições de liderança no Brasil. Este estudo tem como objetivo investigar a formação acadêmica e profissional dos candidatos a prefeito nas capitais brasileiras durante as eleições de 2020, com foco especial em candidatos com formação na área da saúde e aqueles com carreira militar.\n",
    "\n",
    "A pesquisa parte da hipótese de que, impulsionada pela pandemia de COVID-19 e pelo crescente debate em torno das questões de segurança pública, houve um aumento significativo de candidatos com essas formações. Além de examinar os perfis educacionais, o estudo também buscará identificar padrões relacionados a filiações partidárias e regiões de origem desses candidatos, possibilitando uma visão mais ampla sobre como esses perfis se distribuem pelo país.\n",
    "\n",
    "A metodologia adotada envolve a limpeza e padronização de um dataset contendo informações sobre os candidatos, seguida de uma análise exploratória dos dados, que será complementada por visualizações e métricas detalhadas. A conclusão deste trabalho fornecerá insights valiosos sobre a representatividade de candidatos com formações específicas e poderá servir como base para estudos futuros sobre o impacto de perfis profissionais na política brasileira."
   ]
  },
  {
   "cell_type": "markdown",
   "id": "21515ff6-91ea-4c8a-ac55-89b2df574a0f",
   "metadata": {},
   "source": [
    "### 1. Introdução e Definição do Problema\n",
    "A formação educacional dos candidatos a cargos eletivos é um fator essencial para a compreensão do perfil político de um país. No Brasil, as eleições municipais de 2020 foram marcadas por um contexto singular, em que a pandemia de COVID-19 trouxe à tona questões críticas relacionadas à saúde pública e à segurança, influenciando o cenário eleitoral. Neste contexto, a análise da formação acadêmica e das experiências profissionais dos candidatos a prefeito nas capitais brasileiras revela-se especialmente relevante.\n",
    "\n",
    "Este estudo tem como objetivo investigar a formação educacional e a trajetória profissional dos candidatos a prefeito nas capitais brasileiras, com ênfase em dois grupos específicos: aqueles com formação na área da saúde e aqueles com carreira militar. A hipótese central desta pesquisa é que, impulsionada pela pandemia e pela crescente preocupação com a segurança pública, observou-se um aumento significativo na candidatura de profissionais dessas áreas.\n",
    "\n",
    "Por meio da análise de um dataset abrangente que contém informações sobre os candidatos, espera-se identificar padrões relevantes na formação educacional, nas filiações partidárias e nas regiões de origem. Essa análise proporcionará uma visão mais clara sobre como as formações acadêmicas podem influenciar a política local e contribuirá para o debate sobre a representatividade e a qualificação dos candidatos que buscam cargos de liderança.\n",
    "\n"
   ]
  },
  {
   "cell_type": "markdown",
   "id": "41ab7d96-bafe-430f-a09f-b44992abacf4",
   "metadata": {},
   "source": [
    "## Importação de Bibliotecas"
   ]
  },
  {
   "cell_type": "code",
   "execution_count": 16,
   "id": "5148a32d-61f6-4be8-a65a-f8549bbfe360",
   "metadata": {},
   "outputs": [],
   "source": [
    "# Importando as bibliotecas\n",
    "import pandas as pd\n",
    "import numpy as np\n",
    "import matplotlib.pyplot as plt\n",
    "import seaborn as sns"
   ]
  },
  {
   "cell_type": "markdown",
   "id": "6a13ccdb-41ae-4d0e-90ac-47467b8924a0",
   "metadata": {},
   "source": [
    "## Lendo o Dataset"
   ]
  },
  {
   "cell_type": "code",
   "execution_count": 17,
   "id": "d17cc457-586f-4f77-a6dd-894f3027daf1",
   "metadata": {},
   "outputs": [
    {
     "name": "stdout",
     "output_type": "stream",
     "text": [
      "  SG_UF       NM_UE                             NM_CANDIDATO  \\\n",
      "0    AC  RIO BRANCO  MARIA DO SOCORRO NERI MEDEIROS DE SOUZA   \n",
      "1    AC  RIO BRANCO               DANIEL QUEIROZ DE SANT ANA   \n",
      "2    AC  RIO BRANCO                  BELCLADIO JARBAS SOSTER   \n",
      "3    AC  RIO BRANCO              SEBASTIÃO BOCALOM RODRIGUES   \n",
      "4    AC  RIO BRANCO                   MINORU MARTINS KINPARA   \n",
      "\n",
      "  NM_URNA_CANDIDATO SG_PARTIDO  \\\n",
      "0      SOCORRO NERI        PSB   \n",
      "1        DANIEL ZEN         PT   \n",
      "2     JARBAS SOSTER     AVANTE   \n",
      "3      TIÃO BOCALOM         PP   \n",
      "4    MINORU KINPARA       PSDB   \n",
      "\n",
      "                             DS_COMPOSICAO_COLIGACAO  \\\n",
      "0  PSB / PODE / PROS / SOLIDARIEDADE / PDT / PV /...   \n",
      "1                                PT / PSOL / PC do B   \n",
      "2                 DC / PMN / PMB / PATRIOTA / AVANTE   \n",
      "3                                           PSD / PP   \n",
      "4                             CIDADANIA / PSL / PSDB   \n",
      "\n",
      "                    DS_OCUPACAO ENSINO_MEDIO (completo, incompleto, técnico)  \\\n",
      "0                      PREFEITO                                            0   \n",
      "1                      DEPUTADO                                            0   \n",
      "2                 ADMINISTRADOR                                            0   \n",
      "3                      OUTROS                                              0   \n",
      "4  PROFESSOR DE ENSINO SUPERIOR                                            0   \n",
      "\n",
      "         \\nGRAD_1                         GRAD_2  \\\n",
      "0       pedagogia                              0   \n",
      "1       \\ndireito                              0   \n",
      "2   administração                              0   \n",
      "3      matemática  ciências físicas e biológicas   \n",
      "4       pedagogia                 Língua Inglesa   \n",
      "\n",
      "                                            POS_GRAD  \\\n",
      "0  doutorado em educação pela\\n Universidade Fede...   \n",
      "1                                                  0   \n",
      "2                                                  0   \n",
      "3                                                  0   \n",
      "4  mestre em educação\\n\\ndoutor em educação e des...   \n",
      "\n",
      "                                              Link\\n  \\\n",
      "0  https://g1.globo.com/ac/acre/eleicoes/2020/not...   \n",
      "1  https://g1.globo.com/ac/acre/eleicoes/2020/not...   \n",
      "2  https://g1.globo.com/ac/acre/eleicoes/2020/not...   \n",
      "3  https://g1.globo.com/ac/acre/eleicoes/2020/not...   \n",
      "4  https://g1.globo.com/ac/acre/eleicoes/2020/not...   \n",
      "\n",
      "  Informação disponível em site regional/partidario/dividual/linkdin  \\\n",
      "0                                                NaN                   \n",
      "1                                                NaN                   \n",
      "2                                                NaN                   \n",
      "3                                                NaN                   \n",
      "4                                                NaN                   \n",
      "\n",
      "  Vinculo empregatício (ocupação formal)  \\\n",
      "0                                    NaN   \n",
      "1                                    NaN   \n",
      "2                                    NaN   \n",
      "3                              professor   \n",
      "4                                    NaN   \n",
      "\n",
      "  Carreira militar/policial (sim/1 ou não/0)  \\\n",
      "0                                        NaN   \n",
      "1                                        NaN   \n",
      "2                                        NaN   \n",
      "3                                        NaN   \n",
      "4                                        NaN   \n",
      "\n",
      "   Carreira militar/policial (ativo ou inativo)  \\\n",
      "0                                           NaN   \n",
      "1                                           NaN   \n",
      "2                                           NaN   \n",
      "3                                           NaN   \n",
      "4                                           NaN   \n",
      "\n",
      "   Formação saude (técnico, graduação, pós) - 0 e 1  \\\n",
      "0                                               NaN   \n",
      "1                                               NaN   \n",
      "2                                               NaN   \n",
      "3                                               NaN   \n",
      "4                                               NaN   \n",
      "\n",
      "  Atuação na área da saúde (no momento da eleição)  \\\n",
      "0                                              NaN   \n",
      "1                                              NaN   \n",
      "2                                              NaN   \n",
      "3                                              NaN   \n",
      "4                                              NaN   \n",
      "\n",
      "   Histórico de troca de partidos  Partido (s) anteriores  \n",
      "0                             NaN                     NaN  \n",
      "1                             NaN                     NaN  \n",
      "2                             NaN                     NaN  \n",
      "3                             NaN                     NaN  \n",
      "4                             NaN                     NaN  \n"
     ]
    }
   ],
   "source": [
    "# Lendo o arquivo CSV\n",
    "df = pd.read_csv('todos_candidatos_prefeito_2020_TM - Capitais.csv')\n",
    "\n",
    "# Exibindo as primeiras 5 linhas do DataFrame para confirmar a importação\n",
    "print(df.head())"
   ]
  },
  {
   "cell_type": "markdown",
   "id": "099899c3-0436-49a5-b9f3-bfdecc4bc958",
   "metadata": {},
   "source": [
    "## Limpeza dos Dados"
   ]
  },
  {
   "cell_type": "markdown",
   "id": "244a9aa0-9c1d-4855-8ee7-9d346f3a6a1f",
   "metadata": {},
   "source": [
    "A limpeza dos dados é uma etapa crucial na análise, pois garante que as informações sejam precisas e utilizáveis. Nesta seção, vamos:\n",
    "\n",
    "1. Verificar se há valores ausentes no dataset.\n",
    "2. Considerar a remoção de colunas ou preenchimento de valores ausentes, conforme necessário.\n",
    "3. Garantir que os tipos de dados sejam apropriados para as análises que pretendemos realizar."
   ]
  },
  {
   "cell_type": "markdown",
   "id": "bb0a0073-606b-4e41-bddb-33257f6c7eb7",
   "metadata": {},
   "source": [
    "## 1. Verificar Valores Ausentes"
   ]
  },
  {
   "cell_type": "code",
   "execution_count": 3,
   "id": "5c81f14e-f8e3-4092-bb7d-616fe81726ee",
   "metadata": {},
   "outputs": [
    {
     "name": "stdout",
     "output_type": "stream",
     "text": [
      "DS_COMPOSICAO_COLIGACAO                                                 1\n",
      "ENSINO_MEDIO (completo, incompleto, técnico)                            4\n",
      "GRAD_2                                                                  1\n",
      "POS_GRAD                                                                2\n",
      "Link\\n                                                                 80\n",
      "Informação disponível em site regional/partidario/dividual/linkdin    295\n",
      "Vinculo empregatício (ocupação formal)                                289\n",
      "Carreira militar/policial (sim/1 ou não/0)                            293\n",
      "Carreira militar/policial (ativo ou inativo)                          308\n",
      "Formação saude (técnico, graduação, pós) - 0 e 1                      286\n",
      "Atuação na área da saúde (no momento da eleição)                      299\n",
      "Histórico de troca de partidos                                        308\n",
      "Partido (s) anteriores                                                308\n",
      "dtype: int64\n"
     ]
    }
   ],
   "source": [
    "# Verificando valores ausentes\n",
    "missing_values = df.isnull().sum()\n",
    "print(missing_values[missing_values > 0])"
   ]
  },
  {
   "cell_type": "markdown",
   "id": "298f9f92-61b5-4695-99d8-b2b5ba3862ba",
   "metadata": {},
   "source": [
    "## Tratamento de valores ausentes: Formação educacional\n",
    "\n",
    "Para garantir que as informações educacionais estejam claras, decidimos substituir os valores ausentes das colunas relacionadas ao ensino médio, graduação secundária e pós-graduação por 'Não informado'. \n",
    "Essa abordagem ajuda a manter a consistência dos dados e a evitar confusão durante a análise.\n"
   ]
  },
  {
   "cell_type": "code",
   "execution_count": 4,
   "id": "ebeb1b5d-d014-494d-9a6d-ef5dd1bf95f3",
   "metadata": {},
   "outputs": [],
   "source": [
    "# Passo 1: Substituir valores ausentes em colunas importantes por \"Não informado\"\n",
    "# As colunas 'ENSINO_MEDIO (completo, incompleto, técnico)', 'GRAD_2', e 'POS_GRAD' são fundamentais para entender a formação educacional dos candidatos. Portanto, valores ausentes serão substituídos por 'Não informado'.\n",
    "\n",
    "df['ENSINO_MEDIO (completo, incompleto, técnico)'].fillna('Não informado', inplace=True)\n",
    "df['GRAD_2'].fillna('Não informado', inplace=True)\n",
    "df['POS_GRAD'].fillna('Não informado', inplace=True)\n"
   ]
  },
  {
   "cell_type": "markdown",
   "id": "093d5e16-47f3-4f22-8267-5b71ec40422f",
   "metadata": {},
   "source": [
    "## Remoção de coluna: Vínculo empregatício\n",
    "A coluna de vínculo empregatício não será usada na análise. Optamos por removê-la para simplificar o conjunto de dados."
   ]
  },
  {
   "cell_type": "code",
   "execution_count": 5,
   "id": "887c3f85-0e38-4f88-a3f7-7ce629cc85d0",
   "metadata": {},
   "outputs": [],
   "source": [
    "# Passo 2: Remover a coluna 'Vinculo empregatício (ocupação formal)'\n",
    "# Essa coluna não será utilizada na análise, então vamos removê-la.\n",
    "\n",
    "df.drop(columns=['Vinculo empregatício (ocupação formal)'], inplace=True)\n"
   ]
  },
  {
   "cell_type": "markdown",
   "id": "82e6ec45-3235-46d1-9aea-78c95017cb23",
   "metadata": {},
   "source": [
    "## Preenchimento de valores ausentes: Carreira militar/policial\n",
    "A ausência de dados sobre carreira militar/policial será tratada como 'Não', preenchendo os valores ausentes com 0. Isso facilita a análise futura desses dados.\n"
   ]
  },
  {
   "cell_type": "code",
   "execution_count": 6,
   "id": "d7bc781c-3ef0-4f9f-a32e-28b14e137600",
   "metadata": {},
   "outputs": [],
   "source": [
    "# Passo 3: Preencher a coluna 'Carreira militar/policial (sim/1 ou não/0)' com 0\n",
    "# Como a ausência de informações nesta coluna pode ser interpretada como 'Não', vamos preencher os valores ausentes com 0.\n",
    "\n",
    "df['Carreira militar/policial (sim/1 ou não/0)'].fillna(0, inplace=True)\n"
   ]
  },
  {
   "cell_type": "markdown",
   "id": "9126e7dd-c0c6-4704-a6f1-85efa4ffcd5d",
   "metadata": {},
   "source": [
    "## Manutenção da coluna Link\n",
    "A coluna que contém os links usados na coleta de informações será mantida como está. Os valores ausentes indicam dados que ainda precisam ser verificados ou completados.\n"
   ]
  },
  {
   "cell_type": "code",
   "execution_count": null,
   "id": "89641655-1f32-4533-9c52-963e80ec33c0",
   "metadata": {},
   "outputs": [],
   "source": [
    "# Passo 4: Manter a coluna 'Link\\n' e decidir como preencher valores ausentes\n",
    "# A coluna 'Link\\n' contém URLs que foram a fonte das informações coletadas, por isso é importante preservá-la. Para lidar com os valores ausentes, podemos mantê-los como NaN para investigar manualmente depois.\n",
    "\n",
    "# Não é necessário alterar os valores ausentes da coluna de links por enquanto, mas podemos deixar a seguinte anotação:\n",
    "#df['Link\\n'].fillna('A investigar', inplace=True)  # Se optar por adicionar um texto, pode usar esse código.\n"
   ]
  },
  {
   "cell_type": "markdown",
   "id": "45ee8895-8c50-442a-b277-88d477d44b5f",
   "metadata": {},
   "source": [
    "## Remoção de colunas: Pesquisa futura\n",
    "As colunas 'Histórico de troca de partidos', 'Atuação na área da saúde' e 'Partido(s) anteriores' foram removidas para simplificar o dataset neste momento, mas serão investigadas em pesquisas futuras. Isso será indicado no planejamento da análise."
   ]
  },
  {
   "cell_type": "code",
   "execution_count": 7,
   "id": "36138702-5213-4433-9d56-055021b74e30",
   "metadata": {},
   "outputs": [],
   "source": [
    "df.drop(columns=['Histórico de troca de partidos', 'Atuação na área da saúde (no momento da eleição)', 'Partido (s) anteriores'], inplace=True)\n"
   ]
  },
  {
   "cell_type": "code",
   "execution_count": 9,
   "id": "62ed4b87-8c87-4e5d-ba63-db26e31b86ac",
   "metadata": {},
   "outputs": [],
   "source": [
    "# Passo 5: Remover as colunas 'Histórico de troca de partidos', 'Atuação na área da saúde' e 'Partido (s) anteriores', com indicação futura para pesquisa\n",
    "# Essas colunas não serão utilizadas na análise atual, mas são relevantes para futuras pesquisas. Vamos removê-las e deixar isso claro no notebook.\n",
    "\n"
   ]
  },
  {
   "cell_type": "markdown",
   "id": "4f7b4d1b-904a-44cc-bb23-0eb0d00e2ac0",
   "metadata": {},
   "source": [
    "## Padronização das Colunas Categóricas\n",
    "\n",
    "Nesta seção, vamos padronizar as colunas categóricas do nosso DataFrame. A padronização é importante para garantir a consistência dos dados e facilitar as análises futuras. \n",
    "\n",
    "### Colunas a serem padronizadas:\n",
    "\n",
    "1. **DS_OCUPACAO**: Padronizaremos as ocupações, removendo espaços extras e transformando tudo para minúsculas.\n",
    "2. **SG_PARTIDO**: Manteremos a sigla dos partidos como está, garantindo que estejam no formato correto.\n",
    "3. **GRAD_1** e **GRAD_2**: Padronizaremos as formações, removendo espaços e transformando para minúsculas.\n",
    "4. **POS_GRAD**: Padronizaremos da mesma forma que as graduações.\n",
    "5. **ENSINO_MEDIO**: Substituiremos valores por \"não informado\" onde necessário.\n"
   ]
  },
  {
   "cell_type": "code",
   "execution_count": 10,
   "id": "9662396a-f63f-4337-9c53-df077d1b37a0",
   "metadata": {},
   "outputs": [],
   "source": [
    "# 1. DS_OCUPACAO\n",
    "df['DS_OCUPACAO'] = df['DS_OCUPACAO'].str.strip().str.lower()"
   ]
  },
  {
   "cell_type": "code",
   "execution_count": 11,
   "id": "f269febf-772d-49d6-b2c9-f08afd6e3921",
   "metadata": {},
   "outputs": [],
   "source": [
    "# 2. SG_PARTIDO\n",
    "# Manter como está, apenas checando se há siglas não padronizadas.\n"
   ]
  },
  {
   "cell_type": "code",
   "execution_count": 20,
   "id": "e502c92f-c032-4755-8b15-1399922ffb5c",
   "metadata": {},
   "outputs": [],
   "source": [
    "# Renomeando a coluna para remover caracteres especiais\n",
    "df.rename(columns={'\\nGRAD_1': 'GRAD_1'}, inplace=True)\n",
    "\n",
    "# Agora você pode aplicar a padronização\n",
    "df['GRAD_1'] = df['GRAD_1'].fillna('').str.strip().str.lower()"
   ]
  },
  {
   "cell_type": "code",
   "execution_count": 21,
   "id": "ecc47cc2-f72a-4a56-9e09-c3a82c3e1e8c",
   "metadata": {},
   "outputs": [],
   "source": [
    "# 4. GRAD_2\n",
    "df['GRAD_2'] = df['GRAD_2'].str.strip().str.lower()\n"
   ]
  },
  {
   "cell_type": "code",
   "execution_count": 22,
   "id": "72eab841-9bdb-4ba7-83da-f421c6237122",
   "metadata": {},
   "outputs": [],
   "source": [
    "# 5. POS_GRAD\n",
    "df['POS_GRAD'] = df['POS_GRAD'].str.strip().str.lower()\n"
   ]
  },
  {
   "cell_type": "code",
   "execution_count": 23,
   "id": "1968337d-d6ad-40ff-b2a2-78f633232528",
   "metadata": {},
   "outputs": [],
   "source": [
    "# 6. ENSINO_MEDIO\n",
    "df['ENSINO_MEDIO (completo, incompleto, técnico)'] = df['ENSINO_MEDIO (completo, incompleto, técnico)'].replace(\n",
    "    ['completo', 'incompleto', 'técnico'], \n",
    "    ['completo', 'não informado', 'não informado'])"
   ]
  },
  {
   "cell_type": "markdown",
   "id": "707c8abc-2ff5-4278-9ca1-57d023f410ed",
   "metadata": {},
   "source": [
    "### 7. Verificação das Colunas Numéricas\n",
    "\n",
    "Neste passo, vamos verificar as colunas numéricas do DataFrame para garantir que não haja inconsistências, valores ausentes ou tipos de dados incorretos.\n",
    "\n",
    "#### 7.1 Identificar as Colunas Numéricas\n",
    "\n",
    "Primeiro, vamos exibir informações sobre o DataFrame para identificar quais colunas são numéricas.\n"
   ]
  },
  {
   "cell_type": "code",
   "execution_count": 24,
   "id": "2d9970d8-2b72-48ae-b98c-cfa176e5bf3b",
   "metadata": {},
   "outputs": [
    {
     "name": "stdout",
     "output_type": "stream",
     "text": [
      "<class 'pandas.core.frame.DataFrame'>\n",
      "RangeIndex: 308 entries, 0 to 307\n",
      "Data columns (total 20 columns):\n",
      " #   Column                                                              Non-Null Count  Dtype  \n",
      "---  ------                                                              --------------  -----  \n",
      " 0   SG_UF                                                               308 non-null    object \n",
      " 1   NM_UE                                                               308 non-null    object \n",
      " 2   NM_CANDIDATO                                                        308 non-null    object \n",
      " 3   NM_URNA_CANDIDATO                                                   308 non-null    object \n",
      " 4   SG_PARTIDO                                                          308 non-null    object \n",
      " 5   DS_COMPOSICAO_COLIGACAO                                             307 non-null    object \n",
      " 6   DS_OCUPACAO                                                         308 non-null    object \n",
      " 7   ENSINO_MEDIO (completo, incompleto, técnico)                        304 non-null    object \n",
      " 8   GRAD_1                                                              308 non-null    object \n",
      " 9   GRAD_2                                                              307 non-null    object \n",
      " 10  POS_GRAD                                                            306 non-null    object \n",
      " 11  Link\n",
      "                                                               228 non-null    object \n",
      " 12  Informação disponível em site regional/partidario/dividual/linkdin  13 non-null     object \n",
      " 13  Vinculo empregatício (ocupação formal)                              19 non-null     object \n",
      " 14  Carreira militar/policial (sim/1 ou não/0)                          15 non-null     object \n",
      " 15  Carreira militar/policial (ativo ou inativo)                        0 non-null      float64\n",
      " 16  Formação saude (técnico, graduação, pós) - 0 e 1                    22 non-null     float64\n",
      " 17  Atuação na área da saúde (no momento da eleição)                    9 non-null      object \n",
      " 18  Histórico de troca de partidos                                      0 non-null      float64\n",
      " 19  Partido (s) anteriores                                              0 non-null      float64\n",
      "dtypes: float64(4), object(16)\n",
      "memory usage: 48.2+ KB\n",
      "None\n"
     ]
    }
   ],
   "source": [
    "# Mostrando informações sobre o DataFrame para identificar colunas numéricas\n",
    "print(df.info())"
   ]
  },
  {
   "cell_type": "markdown",
   "id": "43fcef78-b6f2-445c-8a04-1e30fcc154a6",
   "metadata": {},
   "source": [
    "### 6. Tratamento de Valores Ausentes\n",
    "\n",
    "Após realizar a análise do DataFrame, identificamos colunas que ainda contêm valores ausentes. Abaixo, descrevemos as estratégias de preenchimento para garantir a integridade dos dados.\n",
    "\n",
    "#### 6.1. DS_COMPOSICAO_COLIGACAO\n",
    "A coluna `DS_COMPOSICAO_COLIGACAO` possui 1 valor ausente. Optamos por preenchê-lo com 'Não informado', uma vez que essa informação é relevante para a análise."
   ]
  },
  {
   "cell_type": "code",
   "execution_count": 25,
   "id": "d6f9e96d-ab6a-4c9f-be45-3df6c50ebe3b",
   "metadata": {},
   "outputs": [],
   "source": [
    "df['DS_COMPOSICAO_COLIGACAO'].fillna('Não informado', inplace=True)"
   ]
  },
  {
   "cell_type": "markdown",
   "id": "04a19cce-0481-44de-9945-3322d7f75e3a",
   "metadata": {},
   "source": [
    "#### 6.2. ENSINO_MEDIO, GRAD_2 e POS_GRAD\n",
    "As colunas ENSINO_MEDIO, GRAD_2 e POS_GRAD ainda possuem alguns valores ausentes. Para garantir a consistência dos dados, esses valores serão substituídos por 'Não informado'."
   ]
  },
  {
   "cell_type": "code",
   "execution_count": 26,
   "id": "667b906c-ca06-43dc-a9c5-654462eb0e69",
   "metadata": {},
   "outputs": [],
   "source": [
    "df['ENSINO_MEDIO (completo, incompleto, técnico)'].fillna('Não informado', inplace=True)\n",
    "df['GRAD_2'].fillna('Não informado', inplace=True)\n",
    "df['POS_GRAD'].fillna('Não informado', inplace=True)"
   ]
  },
  {
   "cell_type": "markdown",
   "id": "a866d7c6-6e89-42dc-bf8c-9482eeeffda2",
   "metadata": {},
   "source": [
    "### 6.3. Link\n",
    "A coluna Link contém 80 valores ausentes. Para manter a integridade dos dados, decidimos deixar esses valores como estão. Como alternativa, podemos preenchê-los com 'A investigar', caso isso ajude a sinalizar a necessidade de verificação."
   ]
  },
  {
   "cell_type": "code",
   "execution_count": 29,
   "id": "2d07fb52-415a-4823-b5fe-cf3793e78739",
   "metadata": {},
   "outputs": [],
   "source": [
    "df.columns = df.columns.str.strip()  # Remove espaços em branco dos nomes das colunas\n",
    "df['Link'].fillna('A investigar', inplace=True)  # Preenche valores ausentes na coluna Link"
   ]
  },
  {
   "cell_type": "markdown",
   "id": "aebf2a70-b7c6-4656-9315-c0aa98e1f34f",
   "metadata": {},
   "source": [
    "### 6.4. Informação disponível em site regional\n",
    "A coluna Informação disponível em site regional/partidario/dividual/linkdin apresenta 295 valores ausentes. Como essa coluna não é crítica para a análise, optamos por removê-la."
   ]
  },
  {
   "cell_type": "code",
   "execution_count": 30,
   "id": "d560159b-37ed-4cc9-8b45-08e7d3d57324",
   "metadata": {},
   "outputs": [],
   "source": [
    "df.drop(columns=['Informação disponível em site regional/partidario/dividual/linkdin'], inplace=True)"
   ]
  },
  {
   "cell_type": "markdown",
   "id": "c546f9ae-60b9-4e0d-8e00-6e504824086e",
   "metadata": {},
   "source": [
    "### 6.5. Carreira militar/policial\n",
    "A coluna Carreira militar/policial (sim/1 ou não/0) ainda possui valores ausentes. Para simplificar a análise, decidimos preenchê-los com 0, interpretando a ausência de informações como 'Não'."
   ]
  },
  {
   "cell_type": "code",
   "execution_count": 31,
   "id": "a6d2bf48-5f59-4a68-af0a-651604c3ba23",
   "metadata": {},
   "outputs": [],
   "source": [
    "df['Carreira militar/policial (sim/1 ou não/0)'].fillna(0, inplace=True)"
   ]
  },
  {
   "cell_type": "code",
   "execution_count": 33,
   "id": "03350a0a-ecee-4317-85a4-fdafa356b9e9",
   "metadata": {},
   "outputs": [
    {
     "name": "stdout",
     "output_type": "stream",
     "text": [
      "<class 'pandas.core.frame.DataFrame'>\n",
      "RangeIndex: 308 entries, 0 to 307\n",
      "Data columns (total 19 columns):\n",
      " #   Column                                            Non-Null Count  Dtype  \n",
      "---  ------                                            --------------  -----  \n",
      " 0   SG_UF                                             308 non-null    object \n",
      " 1   NM_UE                                             308 non-null    object \n",
      " 2   NM_CANDIDATO                                      308 non-null    object \n",
      " 3   NM_URNA_CANDIDATO                                 308 non-null    object \n",
      " 4   SG_PARTIDO                                        308 non-null    object \n",
      " 5   DS_COMPOSICAO_COLIGACAO                           308 non-null    object \n",
      " 6   DS_OCUPACAO                                       308 non-null    object \n",
      " 7   ENSINO_MEDIO (completo, incompleto, técnico)      308 non-null    object \n",
      " 8   GRAD_1                                            308 non-null    object \n",
      " 9   GRAD_2                                            308 non-null    object \n",
      " 10  POS_GRAD                                          308 non-null    object \n",
      " 11  Link                                              308 non-null    object \n",
      " 12  Vinculo empregatício (ocupação formal)            19 non-null     object \n",
      " 13  Carreira militar/policial (sim/1 ou não/0)        308 non-null    object \n",
      " 14  Carreira militar/policial (ativo ou inativo)      0 non-null      float64\n",
      " 15  Formação saude (técnico, graduação, pós) - 0 e 1  22 non-null     float64\n",
      " 16  Atuação na área da saúde (no momento da eleição)  9 non-null      object \n",
      " 17  Histórico de troca de partidos                    0 non-null      float64\n",
      " 18  Partido (s) anteriores                            0 non-null      float64\n",
      "dtypes: float64(4), object(15)\n",
      "memory usage: 45.8+ KB\n"
     ]
    }
   ],
   "source": [
    "df.info()"
   ]
  },
  {
   "cell_type": "markdown",
   "id": "29aee590-d279-44ff-bc35-3359b1463f52",
   "metadata": {},
   "source": [
    "## Tratamento de Valores Ausentes e Remoções\n",
    "\n",
    "Após revisar os valores ausentes e as colunas do DataFrame, tomamos as seguintes decisões:\n",
    "\n",
    "1. **Remoções de Colunas:**\n",
    "   - **Histórico de troca de partidos:** Esta coluna foi removida, pois não contém dados relevantes (0 não nulos).\n",
    "   - **Partido (s) anteriores:** Também foi removida por não apresentar informações úteis (0 não nulos).\n",
    "   - **Vínculo empregatício (ocupação formal):** Removida para simplificar o conjunto de dados.\n",
    "   \n",
    "2. **Colunas Mantidas:**\n",
    "   - **Formação saúde (técnico, graduação, pós) - 0 e 1:** Mantida para avaliação futura, pois é um dado importante.\n",
    "   - **Carreira militar/policial (sim/1 ou não/0):** Mantida para análise.\n"
   ]
  },
  {
   "cell_type": "code",
   "execution_count": 34,
   "id": "5aa66e60-88b5-4119-b8e3-ebe16d0998dc",
   "metadata": {},
   "outputs": [],
   "source": [
    "# Removendo colunas desnecessárias\n",
    "df.drop(columns=['Vinculo empregatício (ocupação formal)', \n",
    "                 'Histórico de troca de partidos', \n",
    "                 'Partido (s) anteriores'], inplace=True)"
   ]
  },
  {
   "cell_type": "markdown",
   "id": "969a9fb8-3ce8-45d2-97ed-15cd8816a28e",
   "metadata": {},
   "source": [
    "### Verificando o DataFrame\n",
    "Após as remoções, verificamos o estado do DataFrame novamente:"
   ]
  },
  {
   "cell_type": "markdown",
   "id": "fb5a6bb2-aa7c-4f91-9533-c782067c440a",
   "metadata": {},
   "source": [
    "# Mostrando informações sobre o DataFrame atualizado\n"
   ]
  },
  {
   "cell_type": "code",
   "execution_count": 36,
   "id": "7fbe82aa-487c-419e-8c00-b991de5bdfb3",
   "metadata": {},
   "outputs": [
    {
     "name": "stdout",
     "output_type": "stream",
     "text": [
      "<class 'pandas.core.frame.DataFrame'>\n",
      "RangeIndex: 308 entries, 0 to 307\n",
      "Data columns (total 16 columns):\n",
      " #   Column                                            Non-Null Count  Dtype  \n",
      "---  ------                                            --------------  -----  \n",
      " 0   SG_UF                                             308 non-null    object \n",
      " 1   NM_UE                                             308 non-null    object \n",
      " 2   NM_CANDIDATO                                      308 non-null    object \n",
      " 3   NM_URNA_CANDIDATO                                 308 non-null    object \n",
      " 4   SG_PARTIDO                                        308 non-null    object \n",
      " 5   DS_COMPOSICAO_COLIGACAO                           308 non-null    object \n",
      " 6   DS_OCUPACAO                                       308 non-null    object \n",
      " 7   ENSINO_MEDIO (completo, incompleto, técnico)      308 non-null    object \n",
      " 8   GRAD_1                                            308 non-null    object \n",
      " 9   GRAD_2                                            308 non-null    object \n",
      " 10  POS_GRAD                                          308 non-null    object \n",
      " 11  Link                                              308 non-null    object \n",
      " 12  Carreira militar/policial (sim/1 ou não/0)        308 non-null    object \n",
      " 13  Carreira militar/policial (ativo ou inativo)      0 non-null      float64\n",
      " 14  Formação saude (técnico, graduação, pós) - 0 e 1  22 non-null     float64\n",
      " 15  Atuação na área da saúde (no momento da eleição)  9 non-null      object \n",
      "dtypes: float64(2), object(14)\n",
      "memory usage: 38.6+ KB\n"
     ]
    }
   ],
   "source": [
    "df.info()"
   ]
  },
  {
   "cell_type": "markdown",
   "id": "e9d21545-3960-4340-a5f4-c0f4b371a0b9",
   "metadata": {},
   "source": [
    "### Considerações sobre os Dados Faltantes\n",
    "\n",
    "Durante o processo de limpeza do dataset, foram identificadas duas colunas com grande quantidade de valores nulos: **\"Carreira militar/policial (ativo ou inativo)\"** e **\"Atuação na área da saúde\"**. Ambas as colunas são de grande relevância para a pesquisa, uma vez que visam mapear perfis de candidatos com atuação militar e na área da saúde. No entanto, devido à falta de dados disponíveis no momento, optou-se por remover essas colunas da análise atual.\n",
    "\n",
    "É importante destacar que essas informações podem ser de extrema utilidade para estudos futuros, caso seja possível obter ou complementar os dados. A inclusão de dados sobre a situação ativa ou inativa dos candidatos com carreira militar, bem como sobre a atuação dos candidatos com formação na área da saúde no momento das eleições, forneceria insights mais precisos sobre esses perfis profissionais e suas respectivas influências no cenário político.\n",
    "\n",
    "Portanto, recomenda-se que essas colunas sejam reavaliadas em estudos subsequentes, utilizando fontes complementares ou base de dados mais abrangentes."
   ]
  },
  {
   "cell_type": "code",
   "execution_count": 39,
   "id": "213f5900-a915-4e40-add2-c7a9fede3975",
   "metadata": {},
   "outputs": [
    {
     "name": "stdout",
     "output_type": "stream",
     "text": [
      "Index(['SG_UF', 'NM_UE', 'NM_CANDIDATO', 'NM_URNA_CANDIDATO', 'SG_PARTIDO',\n",
      "       'DS_COMPOSICAO_COLIGACAO', 'DS_OCUPACAO',\n",
      "       'ENSINO_MEDIO (completo, incompleto, técnico)', 'GRAD_1', 'GRAD_2',\n",
      "       'POS_GRAD', 'Link', 'Carreira militar/policial (sim/1 ou não/0)',\n",
      "       'Carreira militar/policial (ativo ou inativo)',\n",
      "       'Formação saude (técnico, graduação, pós) - 0 e 1',\n",
      "       'Atuação na área da saúde (no momento da eleição)'],\n",
      "      dtype='object')\n",
      "<class 'pandas.core.frame.DataFrame'>\n",
      "RangeIndex: 308 entries, 0 to 307\n",
      "Data columns (total 14 columns):\n",
      " #   Column                                            Non-Null Count  Dtype  \n",
      "---  ------                                            --------------  -----  \n",
      " 0   SG_UF                                             308 non-null    object \n",
      " 1   NM_UE                                             308 non-null    object \n",
      " 2   NM_CANDIDATO                                      308 non-null    object \n",
      " 3   NM_URNA_CANDIDATO                                 308 non-null    object \n",
      " 4   SG_PARTIDO                                        308 non-null    object \n",
      " 5   DS_COMPOSICAO_COLIGACAO                           308 non-null    object \n",
      " 6   DS_OCUPACAO                                       308 non-null    object \n",
      " 7   ENSINO_MEDIO (completo, incompleto, técnico)      308 non-null    object \n",
      " 8   GRAD_1                                            308 non-null    object \n",
      " 9   GRAD_2                                            308 non-null    object \n",
      " 10  POS_GRAD                                          308 non-null    object \n",
      " 11  Link                                              308 non-null    object \n",
      " 12  Carreira militar/policial (ativo ou inativo)      0 non-null      float64\n",
      " 13  Formação saude (técnico, graduação, pós) - 0 e 1  22 non-null     float64\n",
      "dtypes: float64(2), object(12)\n",
      "memory usage: 33.8+ KB\n",
      "None\n"
     ]
    }
   ],
   "source": [
    "print(df.columns)\n",
    "\n",
    "# Removendo as colunas com os nomes exatamente como estão no DataFrame\n",
    "df = df.drop(columns=[\"Carreira militar/policial (sim/1 ou não/0)\", \"Atuação na área da saúde (no momento da eleição)\"])\n",
    "\n",
    "# Verificando o DataFrame após a remoção\n",
    "print(df.info())"
   ]
  },
  {
   "cell_type": "code",
   "execution_count": 40,
   "id": "3ae66453-4b23-42dd-a5cb-e7d17d09d985",
   "metadata": {},
   "outputs": [
    {
     "name": "stdout",
     "output_type": "stream",
     "text": [
      "<class 'pandas.core.frame.DataFrame'>\n",
      "RangeIndex: 308 entries, 0 to 307\n",
      "Data columns (total 13 columns):\n",
      " #   Column                                            Non-Null Count  Dtype  \n",
      "---  ------                                            --------------  -----  \n",
      " 0   SG_UF                                             308 non-null    object \n",
      " 1   NM_UE                                             308 non-null    object \n",
      " 2   NM_CANDIDATO                                      308 non-null    object \n",
      " 3   NM_URNA_CANDIDATO                                 308 non-null    object \n",
      " 4   SG_PARTIDO                                        308 non-null    object \n",
      " 5   DS_COMPOSICAO_COLIGACAO                           308 non-null    object \n",
      " 6   DS_OCUPACAO                                       308 non-null    object \n",
      " 7   ENSINO_MEDIO (completo, incompleto, técnico)      308 non-null    object \n",
      " 8   GRAD_1                                            308 non-null    object \n",
      " 9   GRAD_2                                            308 non-null    object \n",
      " 10  POS_GRAD                                          308 non-null    object \n",
      " 11  Link                                              308 non-null    object \n",
      " 12  Formação saude (técnico, graduação, pós) - 0 e 1  22 non-null     float64\n",
      "dtypes: float64(1), object(12)\n",
      "memory usage: 31.4+ KB\n",
      "None\n"
     ]
    }
   ],
   "source": [
    "# Removendo a coluna \"Carreira militar/policial (ativo ou inativo)\"\n",
    "df = df.drop(columns=[\"Carreira militar/policial (ativo ou inativo)\"])\n",
    "\n",
    "# Verificando o DataFrame após a remoção\n",
    "print(df.info())"
   ]
  },
  {
   "cell_type": "markdown",
   "id": "66636dac-4f0a-4dde-8800-ed250695ee3a",
   "metadata": {},
   "source": [
    "### Tratamento da Coluna de Formação na Área da Saúde\n",
    "\n",
    "A coluna **\"Formação saúde (técnico, graduação, pós) - 0 e 1\"** contém informações sobre a formação acadêmica dos candidatos na área da saúde, onde `1` indica que o candidato possui formação na área e `0` indica que não possui. No entanto, observou-se que a coluna possui uma quantidade significativa de valores nulos.\n",
    "\n",
    "Para facilitar a análise e garantir a consistência dos dados, optou-se por preencher esses valores nulos com `0`. Essa abordagem implica que os candidatos que não têm formação na área da saúde serão corretamente representados, permitindo uma análise mais robusta dos perfis dos candidatos.\n",
    "\n",
    "Essa modificação garantirá que a análise subsequente reflita de forma precisa a presença ou ausência de formação na área da saúde entre os candidatos a prefeito nas capitais brasileiras, ajudando a mapear a representatividade de profissionais dessa área no contexto político."
   ]
  },
  {
   "cell_type": "code",
   "execution_count": 41,
   "id": "6b153dd5-4f49-478a-bb5a-019398327828",
   "metadata": {},
   "outputs": [
    {
     "name": "stdout",
     "output_type": "stream",
     "text": [
      "<class 'pandas.core.frame.DataFrame'>\n",
      "RangeIndex: 308 entries, 0 to 307\n",
      "Data columns (total 13 columns):\n",
      " #   Column                                            Non-Null Count  Dtype  \n",
      "---  ------                                            --------------  -----  \n",
      " 0   SG_UF                                             308 non-null    object \n",
      " 1   NM_UE                                             308 non-null    object \n",
      " 2   NM_CANDIDATO                                      308 non-null    object \n",
      " 3   NM_URNA_CANDIDATO                                 308 non-null    object \n",
      " 4   SG_PARTIDO                                        308 non-null    object \n",
      " 5   DS_COMPOSICAO_COLIGACAO                           308 non-null    object \n",
      " 6   DS_OCUPACAO                                       308 non-null    object \n",
      " 7   ENSINO_MEDIO (completo, incompleto, técnico)      308 non-null    object \n",
      " 8   GRAD_1                                            308 non-null    object \n",
      " 9   GRAD_2                                            308 non-null    object \n",
      " 10  POS_GRAD                                          308 non-null    object \n",
      " 11  Link                                              308 non-null    object \n",
      " 12  Formação saude (técnico, graduação, pós) - 0 e 1  308 non-null    float64\n",
      "dtypes: float64(1), object(12)\n",
      "memory usage: 31.4+ KB\n",
      "None\n"
     ]
    }
   ],
   "source": [
    "# Preenchendo valores nulos com 0\n",
    "df['Formação saude (técnico, graduação, pós) - 0 e 1'] = df['Formação saude (técnico, graduação, pós) - 0 e 1'].fillna(0)\n",
    "\n",
    "# Verificando o DataFrame após o preenchimento\n",
    "print(df.info())"
   ]
  },
  {
   "cell_type": "markdown",
   "id": "9e4811cc-6739-415f-971f-49c5401d1caf",
   "metadata": {},
   "source": [
    "## Análises Descritivas\n",
    "### Contagem de Candidatos com Formação em Saúde:"
   ]
  },
  {
   "cell_type": "code",
   "execution_count": null,
   "id": "721deda6-ddb8-4a56-ad2b-c1086c9f1ab4",
   "metadata": {},
   "outputs": [],
   "source": [
    "# Contagem de candidatos com formação na área da saúde\n",
    "total_saude = df['Formação saude (técnico, graduação, pós) - 0 e 1'].value_counts()\n",
    "print(total_saude)"
   ]
  },
  {
   "cell_type": "markdown",
   "id": "ce5478af-8b8f-4bf5-ad29-fd5e497a644c",
   "metadata": {},
   "source": [
    "vamos analisar graficamente essa distribuição:"
   ]
  },
  {
   "cell_type": "code",
   "execution_count": 43,
   "id": "e55879cc-a11b-4dfa-8a8a-c6acec309071",
   "metadata": {},
   "outputs": [
    {
     "data": {
      "image/png": "[encoded data removed]",
      "text/plain": [
       "<Figure size 432x288 with 1 Axes>"
      ]
     },
     "metadata": {
      "needs_background": "light"
     },
     "output_type": "display_data"
    }
   ],
   "source": [
    "total_saude.plot(kind='bar', title='Candidatos com Formação na Área da Saúde')\n",
    "plt.xlabel('Formação na Saúde (0: Não, 1: Sim)')\n",
    "plt.ylabel('Número de Candidatos')\n",
    "plt.show()"
   ]
  },
  {
   "cell_type": "markdown",
   "id": "c1851b64-87e8-4699-96df-744eb241df85",
   "metadata": {},
   "source": [
    "O resultado mostra que, entre os 308 candidatos:\n",
    "\n",
    "286 não possuem formação na área da saúde (valor 0).\n",
    "22 possuem formação na área da saúde (valor 1).\n",
    "Esse é um dado interessante, pois mostra uma baixa representatividade de candidatos com formação na área da saúde"
   ]
  },
  {
   "cell_type": "markdown",
   "id": "77d09fe9-1da3-4cf6-beed-f0941ab629ae",
   "metadata": {},
   "source": [
    "### Distribuição de Candidatos por Partido:"
   ]
  },
  {
   "cell_type": "code",
   "execution_count": 44,
   "id": "648b9c7c-9da4-42aa-8b2d-c244935b5f4c",
   "metadata": {},
   "outputs": [
    {
     "name": "stdout",
     "output_type": "stream",
     "text": [
      "PSOL             23\n",
      "PT               21\n",
      "PCO              15\n",
      "PSDB             15\n",
      "MDB              15\n",
      "PSTU             14\n",
      "PSL              13\n",
      "PRTB             11\n",
      "NOVO             11\n",
      "PC do B          11\n",
      "PATRIOTA         11\n",
      "SOLIDARIEDADE    10\n",
      "PODE             10\n",
      "PSB              10\n",
      "REPUBLICANOS      9\n",
      "PSD               9\n",
      "PP                9\n",
      "PROS              8\n",
      "PV                8\n",
      "CIDADANIA         8\n",
      "PL                8\n",
      "DEM               8\n",
      "PDT               7\n",
      "PSC               7\n",
      "AVANTE            7\n",
      "UP                6\n",
      "DC                5\n",
      "PMB               5\n",
      "REDE              5\n",
      "PTC               3\n",
      "PTB               3\n",
      "PMN               2\n",
      "PCB               1\n",
      "Name: SG_PARTIDO, dtype: int64\n"
     ]
    }
   ],
   "source": [
    "# Contagem de candidatos por partido\n",
    "total_partidos = df['SG_PARTIDO'].value_counts()\n",
    "print(total_partidos)"
   ]
  },
  {
   "cell_type": "code",
   "execution_count": 45,
   "id": "7716f65e-ffb7-4685-a95c-33542b9cee4d",
   "metadata": {},
   "outputs": [
    {
     "data": {
      "image/png": "[encoded data removed]",
      "text/plain": [
       "<Figure size 432x288 with 1 Axes>"
      ]
     },
     "metadata": {
      "needs_background": "light"
     },
     "output_type": "display_data"
    }
   ],
   "source": [
    "total_partidos.plot(kind='bar', title='Distribuição de Candidatos por Partido')\n",
    "plt.xlabel('Partidos')\n",
    "plt.ylabel('Número de Candidatos')\n",
    "plt.xticks(rotation=90)\n",
    "plt.show()"
   ]
  },
  {
   "cell_type": "markdown",
   "id": "922bcced-91ad-4d61-9aa9-d3e1cbb9bf52",
   "metadata": {},
   "source": [
    "A distribuição de candidatos por partido mostra uma grande diversidade, com 33 partidos diferentes representados. Os partidos com maior número de candidatos a prefeito nas capitais brasileiras em 2020 são:\n",
    "\n",
    "PSOL: 23 candidatos\n",
    "PT: 21 candidatos\n",
    "PCO, PSDB, MDB: 15 candidatos cada\n",
    "PSTU: 14 candidatos\n",
    "Essa análise ajuda a entender como os diferentes partidos estão distribuídos em termos de candidaturas."
   ]
  },
  {
   "cell_type": "markdown",
   "id": "29110524-0680-46f8-867e-dc35e20b4544",
   "metadata": {},
   "source": [
    "### Cruzamento de Dados (Formação na Saúde vs. Partido): Para explorar a relação entre formação na área da saúde e partido:"
   ]
  },
  {
   "cell_type": "code",
   "execution_count": 46,
   "id": "3fc4977c-5c10-4749-9c31-a2b4ad747a31",
   "metadata": {},
   "outputs": [
    {
     "name": "stdout",
     "output_type": "stream",
     "text": [
      "Formação saude (técnico, graduação, pós) - 0 e 1   0.0  1.0\n",
      "SG_PARTIDO                                                 \n",
      "AVANTE                                             6.0  1.0\n",
      "CIDADANIA                                          8.0  NaN\n",
      "DC                                                 4.0  1.0\n",
      "DEM                                                8.0  NaN\n",
      "MDB                                               13.0  2.0\n",
      "NOVO                                              10.0  1.0\n",
      "PATRIOTA                                          11.0  NaN\n",
      "PC do B                                           11.0  NaN\n",
      "PCB                                                1.0  NaN\n",
      "PCO                                               15.0  NaN\n",
      "PDT                                                6.0  1.0\n",
      "PL                                                 7.0  1.0\n",
      "PMB                                                2.0  3.0\n",
      "PMN                                                2.0  NaN\n",
      "PODE                                              10.0  NaN\n",
      "PP                                                 9.0  NaN\n",
      "PROS                                               8.0  NaN\n",
      "PRTB                                              10.0  1.0\n",
      "PSB                                               10.0  NaN\n",
      "PSC                                                7.0  NaN\n",
      "PSD                                                9.0  NaN\n",
      "PSDB                                              14.0  1.0\n",
      "PSL                                               12.0  1.0\n",
      "PSOL                                              20.0  3.0\n",
      "PSTU                                              13.0  1.0\n",
      "PT                                                21.0  NaN\n",
      "PTB                                                3.0  NaN\n",
      "PTC                                                3.0  NaN\n",
      "PV                                                 6.0  2.0\n",
      "REDE                                               5.0  NaN\n",
      "REPUBLICANOS                                       8.0  1.0\n",
      "SOLIDARIEDADE                                      8.0  2.0\n",
      "UP                                                 6.0  NaN\n"
     ]
    }
   ],
   "source": [
    "saude_por_partido = df.groupby(['SG_PARTIDO', 'Formação saude (técnico, graduação, pós) - 0 e 1']).size().unstack()\n",
    "print(saude_por_partido)"
   ]
  },
  {
   "cell_type": "markdown",
   "id": "d3968268-a710-4e4c-b554-3975d26da97c",
   "metadata": {},
   "source": [
    "O cruzamento de dados entre formação na área da saúde e partido revela alguns pontos interessantes:\n",
    "\n",
    "### Partidos com maior número de candidatos com formação na saúde:\n",
    "\n",
    "PSOL: 3 candidatos com formação na saúde.\n",
    "PMB: 3 candidatos com formação na saúde.\n",
    "MDB: 2 candidatos com formação na saúde.\n",
    "PV e SOLIDARIEDADE: 2 candidatos cada.\n",
    "Muitos partidos possuem apenas um ou nenhum candidato com formação na área da saúde. Por exemplo, CIDADANIA, DEM, PATRIOTA, e PT não possuem candidatos com essa formação (valores \"NaN\" indicam que não há candidatos com formação na saúde).\n",
    "\n",
    "Esses dados sugerem que a representatividade de candidatos com formação na área da saúde varia significativamente entre os partidos. Alguns partidos, como PSOL e PMB, têm uma maior concentração desses candidatos, enquanto outros, como PT e PCO, não possuem nenhum candidato com essa formação."
   ]
  },
  {
   "cell_type": "code",
   "execution_count": 47,
   "id": "2580af15-5b1e-4213-a46e-a3df9c6d9132",
   "metadata": {},
   "outputs": [
    {
     "data": {
      "image/png": "[encoded data removed]",
      "text/plain": [
       "<Figure size 432x288 with 1 Axes>"
      ]
     },
     "metadata": {
      "needs_background": "light"
     },
     "output_type": "display_data"
    }
   ],
   "source": [
    "saude_por_partido.plot(kind='bar', stacked=True, title='Candidatos com Formação na Área da Saúde por Partido')\n",
    "plt.xlabel('Partidos')\n",
    "plt.ylabel('Número de Candidatos')\n",
    "plt.xticks(rotation=90)\n",
    "plt.show()"
   ]
  },
  {
   "cell_type": "markdown",
   "id": "fb1c7897-f4d5-48b8-b786-5af6a281777f",
   "metadata": {},
   "source": [
    "### Cruzamento de Dados: Formação em Saúde e Regiões"
   ]
  },
  {
   "cell_type": "markdown",
   "id": "f450a731-832e-4b06-8555-5ffa750a14a0",
   "metadata": {},
   "source": [
    "Neste passo, vamos realizar o cruzamento dos dados de formação em saúde dos candidatos a prefeito com as regiões do Brasil. O objetivo é verificar se há alguma correlação entre a distribuição geográfica dos candidatos e sua formação na área da saúde.\n",
    "\n",
    "### 1. Mapeamento das Regiões do Brasil\n",
    "Para realizar o cruzamento, primeiro precisamos categorizar os estados de acordo com suas respectivas regiões (Norte, Nordeste, Centro-Oeste, Sudeste e Sul). Para isso, criamos um dicionário em Python que associa as siglas dos estados às suas regiões."
   ]
  },
  {
   "cell_type": "code",
   "execution_count": 50,
   "id": "15704105-2a48-4d49-89d7-b4ad0a3a5341",
   "metadata": {},
   "outputs": [],
   "source": [
    "# Dicionário para mapear os estados às suas regiões\n",
    "regioes = {\n",
    "    'AC': 'Norte', 'AP': 'Norte', 'AM': 'Norte', 'PA': 'Norte', 'RO': 'Norte', 'RR': 'Norte', 'TO': 'Norte',\n",
    "    'AL': 'Nordeste', 'BA': 'Nordeste', 'CE': 'Nordeste', 'MA': 'Nordeste', 'PB': 'Nordeste', 'PE': 'Nordeste',\n",
    "    'PI': 'Nordeste', 'RN': 'Nordeste', 'SE': 'Nordeste',\n",
    "    'DF': 'Centro-Oeste', 'GO': 'Centro-Oeste', 'MT': 'Centro-Oeste', 'MS': 'Centro-Oeste',\n",
    "    'ES': 'Sudeste', 'MG': 'Sudeste', 'RJ': 'Sudeste', 'SP': 'Sudeste',\n",
    "    'PR': 'Sul', 'RS': 'Sul', 'SC': 'Sul'\n",
    "}"
   ]
  },
  {
   "cell_type": "markdown",
   "id": "5ea94a05-4d86-45aa-8f2b-c8982c00b1f2",
   "metadata": {},
   "source": [
    "Com esse dicionário, é possível mapear automaticamente os estados presentes no nosso dataset para as suas respectivas regiões."
   ]
  },
  {
   "cell_type": "markdown",
   "id": "09223a11-eb77-4827-8cc1-734938b08551",
   "metadata": {},
   "source": [
    "### 2. Criando a Coluna de Região no Dataset\n",
    "Agora, aplicamos o mapeamento criado para adicionar uma nova coluna chamada Região ao DataFrame, que vai categorizar cada candidato de acordo com o estado onde concorreu."
   ]
  },
  {
   "cell_type": "code",
   "execution_count": 51,
   "id": "0d2ed4df-18f4-4a85-a001-3fb2010076f0",
   "metadata": {},
   "outputs": [],
   "source": [
    "# Adicionando a coluna de região no DataFrame\n",
    "df['Região'] = df['SG_UF'].map(regioes)"
   ]
  },
  {
   "cell_type": "markdown",
   "id": "2b9b9669-f38e-45e4-af40-0201f6e4ffde",
   "metadata": {},
   "source": [
    "Esse passo garante que cada linha do nosso dataset possua a informação da região do Brasil correspondente ao estado do candidato."
   ]
  },
  {
   "cell_type": "markdown",
   "id": "b99aabe9-edcb-4934-a935-d74edca67804",
   "metadata": {},
   "source": [
    "### 3. Cruzando os Dados de Formação em Saúde com as Regiões\n",
    "Com a coluna de região criada, podemos agora cruzar esses dados com a coluna de formação em saúde, utilizando uma tabela cruzada (crosstab). Isso nos permitirá ver quantos candidatos em cada região possuem ou não formação na área da saúde."
   ]
  },
  {
   "cell_type": "code",
   "execution_count": 52,
   "id": "6f3d93ea-b3b7-4df7-9cbf-4980f32581d2",
   "metadata": {},
   "outputs": [
    {
     "data": {
      "image/png": "[encoded data removed]",
      "text/plain": [
       "<Figure size 720x432 with 1 Axes>"
      ]
     },
     "metadata": {
      "needs_background": "light"
     },
     "output_type": "display_data"
    }
   ],
   "source": [
    "# Tabela cruzada entre Formação na área da saúde e Região\n",
    "cross_regiao_saude = pd.crosstab(df['Região'], df['Formação saude (técnico, graduação, pós) - 0 e 1'])\n",
    "\n",
    "# Plotando o gráfico de barras empilhadas\n",
    "cross_regiao_saude.plot(kind='bar', stacked=True, figsize=(10,6), color=['lightcoral', 'lightgreen'])\n",
    "\n",
    "# Adicionando rótulos e título\n",
    "plt.xlabel('Região')\n",
    "plt.ylabel('Número de Candidatos')\n",
    "plt.title('Candidatos com Formação na Área da Saúde por Região')\n",
    "plt.xticks(rotation=45)\n",
    "\n",
    "# Exibindo o gráfico\n",
    "plt.show()"
   ]
  },
  {
   "cell_type": "markdown",
   "id": "234a73c3-81ff-4934-be06-4f36303563db",
   "metadata": {},
   "source": [
    "Neste gráfico de barras empilhadas, visualizamos a quantidade de candidatos por região, separados entre aqueles que possuem formação na área da saúde (valor 1) e os que não possuem (valor 0)."
   ]
  },
  {
   "cell_type": "markdown",
   "id": "2c17933b-f556-4604-98fa-50083824f4bc",
   "metadata": {},
   "source": [
    "### Análise do Gráfico: Candidatos com Formação na Área da Saúde por Região\n",
    "O gráfico acima apresenta a distribuição de candidatos a prefeito nas eleições de 2020, separando aqueles que possuem formação na área da saúde (técnico, graduação, ou pós) dos que não possuem, conforme a região do Brasil. Abaixo está uma análise detalhada dos principais pontos:\n",
    "\n",
    "1. Distribuição Geral\n",
    "O gráfico de barras empilhadas nos mostra a quantidade de candidatos de cada região, sendo que as barras vermelhas representam candidatos sem formação na área da saúde (valor 0) e as barras verdes representam candidatos com essa formação (valor 1).\n",
    "2. Região Nordeste\n",
    "A Região Nordeste se destaca com o maior número de candidatos (aproximadamente 90), com uma proporção relativamente baixa de candidatos com formação na área da saúde.\n",
    "Embora tenha uma das maiores quantidades de candidatos com formação na área da saúde (aproximadamente 10), a grande maioria dos candidatos nesta região não possui essa formação.\n",
    "3. Região Norte\n",
    "A Região Norte possui uma quantidade mediana de candidatos em comparação às demais regiões, mas chama atenção pela maior proporção de candidatos com formação na saúde.\n",
    "Aproximadamente 10% dos candidatos no Norte têm essa formação.\n",
    "4. Região Sudeste\n",
    "No Sudeste, observa-se uma grande quantidade de candidatos (aproximadamente 60), mas com uma pequena presença de candidatos com formação na área da saúde.\n",
    "A proporção de candidatos sem essa formação é bastante expressiva.\n",
    "5. Região Centro-Oeste\n",
    "O Centro-Oeste apresenta o menor número de candidatos dentre todas as regiões, com cerca de 40 candidatos.\n",
    "Apenas uma pequena fração dos candidatos possui formação na área da saúde.\n",
    "6. Região Sul\n",
    "A Região Sul tem a menor quantidade de candidatos no total, e também uma pequena quantidade de candidatos com formação na área da saúde."
   ]
  },
  {
   "cell_type": "markdown",
   "id": "3ec96082-98ca-41a8-a6f0-f0f6549933d5",
   "metadata": {},
   "source": [
    "### Conclusões:\n",
    "Baixa representatividade de candidatos da área da saúde:\n",
    "\n",
    "Como você já apontou, apenas 22 candidatos, ou cerca de 7%, possuem formação na área da saúde. Isso indica uma baixa representatividade dessa formação em um contexto político onde questões de saúde pública, como a pandemia, têm grande relevância.\n",
    "Partidos com maior ênfase na saúde:\n",
    "\n",
    "PSOL e PMB parecem ter maior foco em candidatos com formação na saúde, possivelmente refletindo pautas relacionadas à saúde pública em suas plataformas. Em contraste, partidos maiores, como PT e DEM, não possuem candidatos com essa formação.\n",
    "Disparidade regional:\n",
    "\n",
    "A análise sugere que o Nordeste tem a maior quantidade de candidatos a prefeito, mas o Norte apresenta uma maior proporção de candidatos com formação na saúde. Isso pode indicar um foco maior em saúde pública em regiões com menor acesso a serviços de saúde."
   ]
  }
 ],
 "metadata": {
  "kernelspec": {
   "display_name": "Python 3 (ipykernel)",
   "language": "python",
   "name": "python3"
  },
  "language_info": {
   "codemirror_mode": {
    "name": "ipython",
    "version": 3
   },
   "file_extension": ".py",
   "mimetype": "text/x-python",
   "name": "python",
   "nbconvert_exporter": "python",
   "pygments_lexer": "ipython3",
   "version": "3.9.12"
  }
 },
 "nbformat": 4,
 "nbformat_minor": 5
}
